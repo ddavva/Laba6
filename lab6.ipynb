{
 "cells": [
  {
   "cell_type": "code",
   "execution_count": 1,
   "metadata": {
    "colab": {
     "base_uri": "https://localhost:8080/"
    },
    "id": "k-pm3hELjWvO",
    "outputId": "c9a53e57-1a59-4b2d-b630-e1c73d5356bd"
   },
   "outputs": [
    {
     "name": "stdout",
     "output_type": "stream",
     "text": [
      "Collecting pymorphy2\n",
      "  Downloading pymorphy2-0.9.1-py3-none-any.whl (55 kB)\n",
      "Collecting dawg-python>=0.7.1\n",
      "  Downloading DAWG_Python-0.7.2-py2.py3-none-any.whl (11 kB)\n",
      "Collecting docopt>=0.6\n",
      "  Downloading docopt-0.6.2.tar.gz (25 kB)\n",
      "Collecting pymorphy2-dicts-ru<3.0,>=2.4\n",
      "  Downloading pymorphy2_dicts_ru-2.4.417127.4579844-py2.py3-none-any.whl (8.2 MB)\n",
      "Building wheels for collected packages: docopt\n",
      "  Building wheel for docopt (setup.py): started\n",
      "  Building wheel for docopt (setup.py): finished with status 'done'\n",
      "  Created wheel for docopt: filename=docopt-0.6.2-py2.py3-none-any.whl size=13705 sha256=a383f5e232831c0e58c70dfe852ef38c9a3dd5c6a862fb3ffaaf768becc61d34\n",
      "  Stored in directory: c:\\users\\david\\appdata\\local\\pip\\cache\\wheels\\72\\b0\\3f\\1d95f96ff986c7dfffe46ce2be4062f38ebd04b506c77c81b9\n",
      "Successfully built docopt\n",
      "Installing collected packages: pymorphy2-dicts-ru, docopt, dawg-python, pymorphy2\n",
      "Successfully installed dawg-python-0.7.2 docopt-0.6.2 pymorphy2-0.9.1 pymorphy2-dicts-ru-2.4.417127.4579844\n",
      "Note: you may need to restart the kernel to use updated packages.\n"
     ]
    }
   ],
   "source": [
    "pip install pymorphy2\n"
   ]
  },
  {
   "cell_type": "code",
   "execution_count": 2,
   "metadata": {
    "colab": {
     "base_uri": "https://localhost:8080/"
    },
    "id": "hPl4TJN_ja2K",
    "outputId": "0543a792-c069-43d8-c298-a506ad64b61b"
   },
   "outputs": [
    {
     "name": "stdout",
     "output_type": "stream",
     "text": [
      "Requirement already satisfied: nltk in c:\\users\\david\\anaconda3\\lib\\site-packages (3.4.5)\n",
      "Requirement already satisfied: snowballstemmer in c:\\users\\david\\anaconda3\\lib\\site-packages (2.0.0)\n",
      "Collecting gensim\n",
      "  Downloading gensim-3.8.3-cp37-cp37m-win_amd64.whl (24.2 MB)\n",
      "Requirement already satisfied: numpy>=1.11.3 in c:\\users\\david\\anaconda3\\lib\\site-packages (from gensim) (1.19.5)\n",
      "Requirement already satisfied: six>=1.5.0 in c:\\users\\david\\anaconda3\\lib\\site-packages (from gensim) (1.15.0)\n",
      "Requirement already satisfied: scipy>=0.18.1 in c:\\users\\david\\anaconda3\\lib\\site-packages (from gensim) (1.4.1)\n",
      "Collecting Cython==0.29.14\n",
      "  Downloading Cython-0.29.14-cp37-cp37m-win_amd64.whl (1.7 MB)\n",
      "Collecting smart-open>=1.8.1\n",
      "  Downloading smart_open-4.1.0.tar.gz (116 kB)\n",
      "Collecting pymystem3\n",
      "  Downloading pymystem3-0.2.0-py3-none-any.whl (10 kB)\n",
      "Requirement already satisfied: requests in c:\\users\\david\\anaconda3\\lib\\site-packages (from pymystem3) (2.22.0)\n",
      "Requirement already satisfied: certifi>=2017.4.17 in c:\\users\\david\\anaconda3\\lib\\site-packages (from requests->pymystem3) (2019.11.28)\n",
      "Requirement already satisfied: chardet<3.1.0,>=3.0.2 in c:\\users\\david\\anaconda3\\lib\\site-packages (from requests->pymystem3) (3.0.4)\n",
      "Requirement already satisfied: idna<2.9,>=2.5 in c:\\users\\david\\anaconda3\\lib\\site-packages (from requests->pymystem3) (2.8)\n",
      "Requirement already satisfied: urllib3!=1.25.0,!=1.25.1,<1.26,>=1.21.1 in c:\\users\\david\\anaconda3\\lib\\site-packages (from requests->pymystem3) (1.25.8)\n",
      "Building wheels for collected packages: smart-open\n",
      "  Building wheel for smart-open (setup.py): started\n",
      "  Building wheel for smart-open (setup.py): finished with status 'done'\n",
      "  Created wheel for smart-open: filename=smart_open-4.1.0-py3-none-any.whl size=106206 sha256=09b888ccf590883e1fd377593a26713d487d454cd4e406753a84f959fab899cc\n",
      "  Stored in directory: c:\\users\\david\\appdata\\local\\pip\\cache\\wheels\\12\\af\\e0\\2adc6007eb052d6eb4ac8f01c5f699e4bc479f5ba764aadeb6\n",
      "Successfully built smart-open\n",
      "Installing collected packages: smart-open, Cython, pymystem3, gensim\n",
      "  Attempting uninstall: Cython\n",
      "    Found existing installation: Cython 0.29.15\n",
      "    Uninstalling Cython-0.29.15:\n",
      "      Successfully uninstalled Cython-0.29.15\n",
      "Successfully installed Cython-0.29.14 gensim-3.8.3 pymystem3-0.2.0 smart-open-4.1.0\n",
      "Note: you may need to restart the kernel to use updated packages.\n"
     ]
    }
   ],
   "source": [
    "pip install nltk snowballstemmer pymystem3 gensim"
   ]
  },
  {
   "cell_type": "code",
   "execution_count": 4,
   "metadata": {
    "colab": {
     "base_uri": "https://localhost:8080/"
    },
    "id": "YmRUxy-cjbmR",
    "outputId": "68529135-8033-4b66-8a51-b246a2e9619a"
   },
   "outputs": [
    {
     "name": "stderr",
     "output_type": "stream",
     "text": [
      "[nltk_data] Downloading package punkt to\n",
      "[nltk_data]     C:\\Users\\david\\AppData\\Roaming\\nltk_data...\n",
      "[nltk_data]   Package punkt is already up-to-date!\n"
     ]
    }
   ],
   "source": [
    "import pandas as pd\n",
    "import pymorphy2\n",
    "import pymystem3\n",
    "from snowballstemmer import EnglishStemmer\n",
    "import nltk\n",
    "nltk.download('punkt')\n",
    "import json\n",
    "import numpy as np\n",
    "import datetime as dt\n",
    "import matplotlib.pyplot as plt\n",
    "from sklearn.preprocessing import OneHotEncoder \n",
    "from sklearn.preprocessing import LabelEncoder "
   ]
  },
  {
   "cell_type": "code",
   "execution_count": 6,
   "metadata": {
    "colab": {
     "base_uri": "https://localhost:8080/"
    },
    "id": "q9te92VVjmrX",
    "outputId": "75b81ecb-a8ba-4942-bdcc-ab5d99fbce1b"
   },
   "outputs": [
    {
     "name": "stderr",
     "output_type": "stream",
     "text": [
      "C:\\Users\\david\\anaconda3\\lib\\site-packages\\IPython\\core\\interactiveshell.py:3063: DtypeWarning: Columns (3) have mixed types.Specify dtype option on import or set low_memory=False.\n",
      "  interactivity=interactivity, compiler=compiler, result=result)\n"
     ]
    }
   ],
   "source": [
    "data = pd.read_csv(r'C:\\Users\\david\\Desktop\\lab6\\lenta-ru-news.csv')"
   ]
  },
  {
   "cell_type": "code",
   "execution_count": 7,
   "metadata": {
    "colab": {
     "base_uri": "https://localhost:8080/",
     "height": 589
    },
    "id": "uxz0-gPqjouv",
    "outputId": "3bcad0fd-584c-4a40-d629-eba9037eb82d"
   },
   "outputs": [
    {
     "data": {
      "text/html": [
       "<div>\n",
       "<style scoped>\n",
       "    .dataframe tbody tr th:only-of-type {\n",
       "        vertical-align: middle;\n",
       "    }\n",
       "\n",
       "    .dataframe tbody tr th {\n",
       "        vertical-align: top;\n",
       "    }\n",
       "\n",
       "    .dataframe thead th {\n",
       "        text-align: right;\n",
       "    }\n",
       "</style>\n",
       "<table border=\"1\" class=\"dataframe\">\n",
       "  <thead>\n",
       "    <tr style=\"text-align: right;\">\n",
       "      <th></th>\n",
       "      <th>url</th>\n",
       "      <th>title</th>\n",
       "      <th>text</th>\n",
       "      <th>topic</th>\n",
       "      <th>tags</th>\n",
       "      <th>date</th>\n",
       "    </tr>\n",
       "  </thead>\n",
       "  <tbody>\n",
       "    <tr>\n",
       "      <th>0</th>\n",
       "      <td>https://lenta.ru/news/1914/09/16/hungarnn/</td>\n",
       "      <td>1914. Русские войска вступили в пределы Венгрии</td>\n",
       "      <td>Бои у Сопоцкина и Друскеник закончились отступ...</td>\n",
       "      <td>Библиотека</td>\n",
       "      <td>Первая мировая</td>\n",
       "      <td>1914/09/16</td>\n",
       "    </tr>\n",
       "    <tr>\n",
       "      <th>1</th>\n",
       "      <td>https://lenta.ru/news/1914/09/16/lermontov/</td>\n",
       "      <td>1914. Празднование столетия М.Ю. Лермонтова от...</td>\n",
       "      <td>Министерство народного просвещения, в виду про...</td>\n",
       "      <td>Библиотека</td>\n",
       "      <td>Первая мировая</td>\n",
       "      <td>1914/09/16</td>\n",
       "    </tr>\n",
       "    <tr>\n",
       "      <th>2</th>\n",
       "      <td>https://lenta.ru/news/1914/09/17/nesteroff/</td>\n",
       "      <td>1914. Das ist Nesteroff!</td>\n",
       "      <td>Штабс-капитан П. Н. Нестеров на днях, увидев в...</td>\n",
       "      <td>Библиотека</td>\n",
       "      <td>Первая мировая</td>\n",
       "      <td>1914/09/17</td>\n",
       "    </tr>\n",
       "    <tr>\n",
       "      <th>3</th>\n",
       "      <td>https://lenta.ru/news/1914/09/17/bulldogn/</td>\n",
       "      <td>1914. Бульдог-гонец под Льежем</td>\n",
       "      <td>Фотограф-корреспондент Daily Mirror рассказыва...</td>\n",
       "      <td>Библиотека</td>\n",
       "      <td>Первая мировая</td>\n",
       "      <td>1914/09/17</td>\n",
       "    </tr>\n",
       "    <tr>\n",
       "      <th>4</th>\n",
       "      <td>https://lenta.ru/news/1914/09/18/zver/</td>\n",
       "      <td>1914. Под Люблином пойман швабский зверь</td>\n",
       "      <td>Лица, приехавшие в Варшаву из Люблина, передаю...</td>\n",
       "      <td>Библиотека</td>\n",
       "      <td>Первая мировая</td>\n",
       "      <td>1914/09/18</td>\n",
       "    </tr>\n",
       "    <tr>\n",
       "      <th>...</th>\n",
       "      <td>...</td>\n",
       "      <td>...</td>\n",
       "      <td>...</td>\n",
       "      <td>...</td>\n",
       "      <td>...</td>\n",
       "      <td>...</td>\n",
       "    </tr>\n",
       "    <tr>\n",
       "      <th>800970</th>\n",
       "      <td>https://lenta.ru/news/2019/12/14/shnur/</td>\n",
       "      <td>Шнуров раскритиковал Гагарину на «Голосе»</td>\n",
       "      <td>Певец Сергей Шнуров раскритиковал свою коллегу...</td>\n",
       "      <td>NaN</td>\n",
       "      <td>ТВ и радио</td>\n",
       "      <td>2019/12/14</td>\n",
       "    </tr>\n",
       "    <tr>\n",
       "      <th>800971</th>\n",
       "      <td>https://lenta.ru/news/2019/12/14/dolg/</td>\n",
       "      <td>В России предложили изменить правила взыскания...</td>\n",
       "      <td>Министерство юстиции России предложило изменит...</td>\n",
       "      <td>NaN</td>\n",
       "      <td>Все</td>\n",
       "      <td>2019/12/14</td>\n",
       "    </tr>\n",
       "    <tr>\n",
       "      <th>800972</th>\n",
       "      <td>https://lenta.ru/news/2019/12/14/dark_euro/</td>\n",
       "      <td>В России назвали «черную дату» для Европы</td>\n",
       "      <td>Испытание США ранее запрещенной Договором о ли...</td>\n",
       "      <td>NaN</td>\n",
       "      <td>Политика</td>\n",
       "      <td>2019/12/14</td>\n",
       "    </tr>\n",
       "    <tr>\n",
       "      <th>800973</th>\n",
       "      <td>https://lenta.ru/news/2019/12/14/meteo/</td>\n",
       "      <td>Россиянам пообещали аномально теплую погоду</td>\n",
       "      <td>В ближайшие дни в европейской части России пог...</td>\n",
       "      <td>NaN</td>\n",
       "      <td>Общество</td>\n",
       "      <td>2019/12/14</td>\n",
       "    </tr>\n",
       "    <tr>\n",
       "      <th>800974</th>\n",
       "      <td>https://lenta.ru/news/2019/12/14/olimp/</td>\n",
       "      <td>В конкурсе прогнозов на АПЛ разыграют 100 тыся...</td>\n",
       "      <td>Ведущие футбольные чемпионаты ушли на зимние к...</td>\n",
       "      <td>NaN</td>\n",
       "      <td>Английский футбол</td>\n",
       "      <td>2019/12/14</td>\n",
       "    </tr>\n",
       "  </tbody>\n",
       "</table>\n",
       "<p>800975 rows × 6 columns</p>\n",
       "</div>"
      ],
      "text/plain": [
       "                                                url  \\\n",
       "0        https://lenta.ru/news/1914/09/16/hungarnn/   \n",
       "1       https://lenta.ru/news/1914/09/16/lermontov/   \n",
       "2       https://lenta.ru/news/1914/09/17/nesteroff/   \n",
       "3        https://lenta.ru/news/1914/09/17/bulldogn/   \n",
       "4            https://lenta.ru/news/1914/09/18/zver/   \n",
       "...                                             ...   \n",
       "800970      https://lenta.ru/news/2019/12/14/shnur/   \n",
       "800971       https://lenta.ru/news/2019/12/14/dolg/   \n",
       "800972  https://lenta.ru/news/2019/12/14/dark_euro/   \n",
       "800973      https://lenta.ru/news/2019/12/14/meteo/   \n",
       "800974      https://lenta.ru/news/2019/12/14/olimp/   \n",
       "\n",
       "                                                    title  \\\n",
       "0       1914. Русские войска вступили в пределы Венгрии     \n",
       "1       1914. Празднование столетия М.Ю. Лермонтова от...   \n",
       "2                                1914. Das ist Nesteroff!   \n",
       "3                         1914. Бульдог-гонец под Льежем    \n",
       "4                1914. Под Люблином пойман швабский зверь   \n",
       "...                                                   ...   \n",
       "800970          Шнуров раскритиковал Гагарину на «Голосе»   \n",
       "800971  В России предложили изменить правила взыскания...   \n",
       "800972          В России назвали «черную дату» для Европы   \n",
       "800973        Россиянам пообещали аномально теплую погоду   \n",
       "800974  В конкурсе прогнозов на АПЛ разыграют 100 тыся...   \n",
       "\n",
       "                                                     text       topic  \\\n",
       "0       Бои у Сопоцкина и Друскеник закончились отступ...  Библиотека   \n",
       "1       Министерство народного просвещения, в виду про...  Библиотека   \n",
       "2       Штабс-капитан П. Н. Нестеров на днях, увидев в...  Библиотека   \n",
       "3       Фотограф-корреспондент Daily Mirror рассказыва...  Библиотека   \n",
       "4       Лица, приехавшие в Варшаву из Люблина, передаю...  Библиотека   \n",
       "...                                                   ...         ...   \n",
       "800970  Певец Сергей Шнуров раскритиковал свою коллегу...         NaN   \n",
       "800971  Министерство юстиции России предложило изменит...         NaN   \n",
       "800972  Испытание США ранее запрещенной Договором о ли...         NaN   \n",
       "800973  В ближайшие дни в европейской части России пог...         NaN   \n",
       "800974  Ведущие футбольные чемпионаты ушли на зимние к...         NaN   \n",
       "\n",
       "                     tags        date  \n",
       "0          Первая мировая  1914/09/16  \n",
       "1          Первая мировая  1914/09/16  \n",
       "2          Первая мировая  1914/09/17  \n",
       "3          Первая мировая  1914/09/17  \n",
       "4          Первая мировая  1914/09/18  \n",
       "...                   ...         ...  \n",
       "800970         ТВ и радио  2019/12/14  \n",
       "800971                Все  2019/12/14  \n",
       "800972           Политика  2019/12/14  \n",
       "800973           Общество  2019/12/14  \n",
       "800974  Английский футбол  2019/12/14  \n",
       "\n",
       "[800975 rows x 6 columns]"
      ]
     },
     "execution_count": 7,
     "metadata": {},
     "output_type": "execute_result"
    }
   ],
   "source": [
    "data"
   ]
  },
  {
   "cell_type": "code",
   "execution_count": 8,
   "metadata": {
    "colab": {
     "base_uri": "https://localhost:8080/"
    },
    "id": "H66uHTK7pABe",
    "outputId": "59164862-98ae-4212-fdec-840bb0671d63"
   },
   "outputs": [
    {
     "data": {
      "text/plain": [
       "Все               453762\n",
       "Политика           40716\n",
       "Общество           35202\n",
       "Украина            22523\n",
       "Происшествия       19825\n",
       "                   ...  \n",
       "Мировой опыт           6\n",
       "Нацпроекты             6\n",
       "Вооружение             3\n",
       "Инновации              1\n",
       "69-я параллель         1\n",
       "Name: tags, Length: 94, dtype: int64"
      ]
     },
     "execution_count": 8,
     "metadata": {},
     "output_type": "execute_result"
    }
   ],
   "source": [
    "data['tags'].value_counts()"
   ]
  },
  {
   "cell_type": "markdown",
   "metadata": {
    "id": "3s4ew1w8NMSz"
   },
   "source": [
    "Используем Label Encode, удалим ненужные признаки, а также заполним пропуски в таблице\n"
   ]
  },
  {
   "cell_type": "code",
   "execution_count": 9,
   "metadata": {
    "colab": {
     "base_uri": "https://localhost:8080/"
    },
    "id": "kHPkxe4rpLke",
    "outputId": "49d9ebdb-b957-49d9-9f5d-934102d225b3"
   },
   "outputs": [
    {
     "data": {
      "text/plain": [
       "url      False\n",
       "title    False\n",
       "text      True\n",
       "topic     True\n",
       "tags      True\n",
       "date     False\n",
       "dtype: bool"
      ]
     },
     "execution_count": 9,
     "metadata": {},
     "output_type": "execute_result"
    }
   ],
   "source": [
    "data.isna().any()"
   ]
  },
  {
   "cell_type": "code",
   "execution_count": 10,
   "metadata": {
    "colab": {
     "base_uri": "https://localhost:8080/",
     "height": 589
    },
    "id": "Jzkp_WY_pPw6",
    "outputId": "aa16ffbb-4df0-4d0d-e44d-9d11a54d56e8"
   },
   "outputs": [
    {
     "data": {
      "text/html": [
       "<div>\n",
       "<style scoped>\n",
       "    .dataframe tbody tr th:only-of-type {\n",
       "        vertical-align: middle;\n",
       "    }\n",
       "\n",
       "    .dataframe tbody tr th {\n",
       "        vertical-align: top;\n",
       "    }\n",
       "\n",
       "    .dataframe thead th {\n",
       "        text-align: right;\n",
       "    }\n",
       "</style>\n",
       "<table border=\"1\" class=\"dataframe\">\n",
       "  <thead>\n",
       "    <tr style=\"text-align: right;\">\n",
       "      <th></th>\n",
       "      <th>url</th>\n",
       "      <th>title</th>\n",
       "      <th>text</th>\n",
       "      <th>topic</th>\n",
       "      <th>tags</th>\n",
       "      <th>date</th>\n",
       "    </tr>\n",
       "  </thead>\n",
       "  <tbody>\n",
       "    <tr>\n",
       "      <th>0</th>\n",
       "      <td>https://lenta.ru/news/2014/08/19/backspacing/</td>\n",
       "      <td>Украина собралась обеспечить газом из ЕС полов...</td>\n",
       "      <td>Украина сможет покрывать более 50 процентов св...</td>\n",
       "      <td>Экономика</td>\n",
       "      <td>Госэкономика</td>\n",
       "      <td>2014/08/19</td>\n",
       "    </tr>\n",
       "    <tr>\n",
       "      <th>1</th>\n",
       "      <td>https://lenta.ru/news/2012/10/29/needforspeed/</td>\n",
       "      <td>Объявлен срок релиза Need for Speed: Most Want...</td>\n",
       "      <td>Издательство Electronic Arts официально анонси...</td>\n",
       "      <td>Наука и техника</td>\n",
       "      <td>Все</td>\n",
       "      <td>2012/10/29</td>\n",
       "    </tr>\n",
       "    <tr>\n",
       "      <th>2</th>\n",
       "      <td>https://lenta.ru/news/2000/05/12/exitpolls/</td>\n",
       "      <td>Кто победит в Питере, сначала узнает Интернет</td>\n",
       "      <td>14 мая, в день выборов губернатора Санкт-Петер...</td>\n",
       "      <td>Интернет и СМИ</td>\n",
       "      <td>Все</td>\n",
       "      <td>2000/05/12</td>\n",
       "    </tr>\n",
       "    <tr>\n",
       "      <th>3</th>\n",
       "      <td>https://lenta.ru/news/2017/10/31/houseofcards/</td>\n",
       "      <td>Netflix займется спин-оффом «Карточного домика...</td>\n",
       "      <td>Американская развлекательная компания Netflix ...</td>\n",
       "      <td>Культура</td>\n",
       "      <td>Кино</td>\n",
       "      <td>2017/10/31</td>\n",
       "    </tr>\n",
       "    <tr>\n",
       "      <th>4</th>\n",
       "      <td>https://lenta.ru/news/2009/06/11/delo1/</td>\n",
       "      <td>Московский вуз уточнил личность подозреваемого...</td>\n",
       "      <td>В Российском государственном университете физи...</td>\n",
       "      <td>Россия</td>\n",
       "      <td>Все</td>\n",
       "      <td>2009/06/11</td>\n",
       "    </tr>\n",
       "    <tr>\n",
       "      <th>...</th>\n",
       "      <td>...</td>\n",
       "      <td>...</td>\n",
       "      <td>...</td>\n",
       "      <td>...</td>\n",
       "      <td>...</td>\n",
       "      <td>...</td>\n",
       "    </tr>\n",
       "    <tr>\n",
       "      <th>17759</th>\n",
       "      <td>https://lenta.ru/news/2002/10/28/help2/</td>\n",
       "      <td>Побывавшим в заложниках жителям Подмосковья ок...</td>\n",
       "      <td>Помощь жителям Подмосковья, пострадавшим в рез...</td>\n",
       "      <td>Россия</td>\n",
       "      <td>Все</td>\n",
       "      <td>2002/10/28</td>\n",
       "    </tr>\n",
       "    <tr>\n",
       "      <th>17760</th>\n",
       "      <td>https://lenta.ru/news/2008/11/06/onemore/</td>\n",
       "      <td>Из Партии регионов решил выйти еще один депутат</td>\n",
       "      <td>Депутат Верховной Рады Дмитрий Табачник решил ...</td>\n",
       "      <td>Бывший СССР</td>\n",
       "      <td>Все</td>\n",
       "      <td>2008/11/06</td>\n",
       "    </tr>\n",
       "    <tr>\n",
       "      <th>17761</th>\n",
       "      <td>https://lenta.ru/news/2012/04/10/tramiel/</td>\n",
       "      <td>Умер создатель компьютеров Commodore</td>\n",
       "      <td>В воскресенье, 8 апреля, скончался Джек Трэмие...</td>\n",
       "      <td>Наука и техника</td>\n",
       "      <td>Все</td>\n",
       "      <td>2012/04/10</td>\n",
       "    </tr>\n",
       "    <tr>\n",
       "      <th>17762</th>\n",
       "      <td>https://lenta.ru/news/2013/12/09/pilots/</td>\n",
       "      <td>Совфед предложил закрыть нехватку гражданских ...</td>\n",
       "      <td>Совет Федерации предложил восполнить нехватку ...</td>\n",
       "      <td>Экономика</td>\n",
       "      <td>Госэкономика</td>\n",
       "      <td>2013/12/09</td>\n",
       "    </tr>\n",
       "    <tr>\n",
       "      <th>17763</th>\n",
       "      <td>https://lenta.ru/news/2009/04/22/germany/</td>\n",
       "      <td>В Германии будут следить за любителями детской...</td>\n",
       "      <td>Правительство Германии приняло закон, по котор...</td>\n",
       "      <td>Интернет и СМИ</td>\n",
       "      <td>Все</td>\n",
       "      <td>2009/04/22</td>\n",
       "    </tr>\n",
       "  </tbody>\n",
       "</table>\n",
       "<p>17764 rows × 6 columns</p>\n",
       "</div>"
      ],
      "text/plain": [
       "                                                  url  \\\n",
       "0       https://lenta.ru/news/2014/08/19/backspacing/   \n",
       "1      https://lenta.ru/news/2012/10/29/needforspeed/   \n",
       "2         https://lenta.ru/news/2000/05/12/exitpolls/   \n",
       "3      https://lenta.ru/news/2017/10/31/houseofcards/   \n",
       "4             https://lenta.ru/news/2009/06/11/delo1/   \n",
       "...                                               ...   \n",
       "17759         https://lenta.ru/news/2002/10/28/help2/   \n",
       "17760       https://lenta.ru/news/2008/11/06/onemore/   \n",
       "17761       https://lenta.ru/news/2012/04/10/tramiel/   \n",
       "17762        https://lenta.ru/news/2013/12/09/pilots/   \n",
       "17763       https://lenta.ru/news/2009/04/22/germany/   \n",
       "\n",
       "                                                   title  \\\n",
       "0      Украина собралась обеспечить газом из ЕС полов...   \n",
       "1      Объявлен срок релиза Need for Speed: Most Want...   \n",
       "2          Кто победит в Питере, сначала узнает Интернет   \n",
       "3      Netflix займется спин-оффом «Карточного домика...   \n",
       "4      Московский вуз уточнил личность подозреваемого...   \n",
       "...                                                  ...   \n",
       "17759  Побывавшим в заложниках жителям Подмосковья ок...   \n",
       "17760    Из Партии регионов решил выйти еще один депутат   \n",
       "17761               Умер создатель компьютеров Commodore   \n",
       "17762  Совфед предложил закрыть нехватку гражданских ...   \n",
       "17763  В Германии будут следить за любителями детской...   \n",
       "\n",
       "                                                    text            topic  \\\n",
       "0      Украина сможет покрывать более 50 процентов св...        Экономика   \n",
       "1      Издательство Electronic Arts официально анонси...  Наука и техника   \n",
       "2      14 мая, в день выборов губернатора Санкт-Петер...   Интернет и СМИ   \n",
       "3      Американская развлекательная компания Netflix ...         Культура   \n",
       "4      В Российском государственном университете физи...           Россия   \n",
       "...                                                  ...              ...   \n",
       "17759  Помощь жителям Подмосковья, пострадавшим в рез...           Россия   \n",
       "17760  Депутат Верховной Рады Дмитрий Табачник решил ...      Бывший СССР   \n",
       "17761  В воскресенье, 8 апреля, скончался Джек Трэмие...  Наука и техника   \n",
       "17762  Совет Федерации предложил восполнить нехватку ...        Экономика   \n",
       "17763  Правительство Германии приняло закон, по котор...   Интернет и СМИ   \n",
       "\n",
       "               tags        date  \n",
       "0      Госэкономика  2014/08/19  \n",
       "1               Все  2012/10/29  \n",
       "2               Все  2000/05/12  \n",
       "3              Кино  2017/10/31  \n",
       "4               Все  2009/06/11  \n",
       "...             ...         ...  \n",
       "17759           Все  2002/10/28  \n",
       "17760           Все  2008/11/06  \n",
       "17761           Все  2012/04/10  \n",
       "17762  Госэкономика  2013/12/09  \n",
       "17763           Все  2009/04/22  \n",
       "\n",
       "[17764 rows x 6 columns]"
      ]
     },
     "execution_count": 10,
     "metadata": {},
     "output_type": "execute_result"
    }
   ],
   "source": [
    "data = data.sample(20000)\n",
    "data.dropna(inplace=True)\n",
    "data.reset_index(drop=True, inplace=True)\n",
    "data"
   ]
  },
  {
   "cell_type": "code",
   "execution_count": 11,
   "metadata": {
    "colab": {
     "base_uri": "https://localhost:8080/",
     "height": 415
    },
    "id": "iquKZQjcpTZ-",
    "outputId": "447be8f8-3ad6-4d4a-9c16-02524fdbfe17",
    "scrolled": true
   },
   "outputs": [
    {
     "data": {
      "text/html": [
       "<div>\n",
       "<style scoped>\n",
       "    .dataframe tbody tr th:only-of-type {\n",
       "        vertical-align: middle;\n",
       "    }\n",
       "\n",
       "    .dataframe tbody tr th {\n",
       "        vertical-align: top;\n",
       "    }\n",
       "\n",
       "    .dataframe thead th {\n",
       "        text-align: right;\n",
       "    }\n",
       "</style>\n",
       "<table border=\"1\" class=\"dataframe\">\n",
       "  <thead>\n",
       "    <tr style=\"text-align: right;\">\n",
       "      <th></th>\n",
       "      <th>text</th>\n",
       "      <th>tags</th>\n",
       "    </tr>\n",
       "  </thead>\n",
       "  <tbody>\n",
       "    <tr>\n",
       "      <th>0</th>\n",
       "      <td>Украина сможет покрывать более 50 процентов св...</td>\n",
       "      <td>Госэкономика</td>\n",
       "    </tr>\n",
       "    <tr>\n",
       "      <th>1</th>\n",
       "      <td>Издательство Electronic Arts официально анонси...</td>\n",
       "      <td>Все</td>\n",
       "    </tr>\n",
       "    <tr>\n",
       "      <th>2</th>\n",
       "      <td>14 мая, в день выборов губернатора Санкт-Петер...</td>\n",
       "      <td>Все</td>\n",
       "    </tr>\n",
       "    <tr>\n",
       "      <th>3</th>\n",
       "      <td>Американская развлекательная компания Netflix ...</td>\n",
       "      <td>Кино</td>\n",
       "    </tr>\n",
       "    <tr>\n",
       "      <th>4</th>\n",
       "      <td>В Российском государственном университете физи...</td>\n",
       "      <td>Все</td>\n",
       "    </tr>\n",
       "    <tr>\n",
       "      <th>...</th>\n",
       "      <td>...</td>\n",
       "      <td>...</td>\n",
       "    </tr>\n",
       "    <tr>\n",
       "      <th>17759</th>\n",
       "      <td>Помощь жителям Подмосковья, пострадавшим в рез...</td>\n",
       "      <td>Все</td>\n",
       "    </tr>\n",
       "    <tr>\n",
       "      <th>17760</th>\n",
       "      <td>Депутат Верховной Рады Дмитрий Табачник решил ...</td>\n",
       "      <td>Все</td>\n",
       "    </tr>\n",
       "    <tr>\n",
       "      <th>17761</th>\n",
       "      <td>В воскресенье, 8 апреля, скончался Джек Трэмие...</td>\n",
       "      <td>Все</td>\n",
       "    </tr>\n",
       "    <tr>\n",
       "      <th>17762</th>\n",
       "      <td>Совет Федерации предложил восполнить нехватку ...</td>\n",
       "      <td>Госэкономика</td>\n",
       "    </tr>\n",
       "    <tr>\n",
       "      <th>17763</th>\n",
       "      <td>Правительство Германии приняло закон, по котор...</td>\n",
       "      <td>Все</td>\n",
       "    </tr>\n",
       "  </tbody>\n",
       "</table>\n",
       "<p>17764 rows × 2 columns</p>\n",
       "</div>"
      ],
      "text/plain": [
       "                                                    text          tags\n",
       "0      Украина сможет покрывать более 50 процентов св...  Госэкономика\n",
       "1      Издательство Electronic Arts официально анонси...           Все\n",
       "2      14 мая, в день выборов губернатора Санкт-Петер...           Все\n",
       "3      Американская развлекательная компания Netflix ...          Кино\n",
       "4      В Российском государственном университете физи...           Все\n",
       "...                                                  ...           ...\n",
       "17759  Помощь жителям Подмосковья, пострадавшим в рез...           Все\n",
       "17760  Депутат Верховной Рады Дмитрий Табачник решил ...           Все\n",
       "17761  В воскресенье, 8 апреля, скончался Джек Трэмие...           Все\n",
       "17762  Совет Федерации предложил восполнить нехватку ...  Госэкономика\n",
       "17763  Правительство Германии приняло закон, по котор...           Все\n",
       "\n",
       "[17764 rows x 2 columns]"
      ]
     },
     "execution_count": 11,
     "metadata": {},
     "output_type": "execute_result"
    }
   ],
   "source": [
    "data = data.drop(['url', 'title', 'date', 'topic'], axis='columns')\n",
    "data"
   ]
  },
  {
   "cell_type": "code",
   "execution_count": 12,
   "metadata": {
    "colab": {
     "base_uri": "https://localhost:8080/",
     "height": 415
    },
    "id": "fvqnGYXapaxT",
    "outputId": "c5999201-776c-4140-de15-d3fd170d44b3"
   },
   "outputs": [
    {
     "data": {
      "text/html": [
       "<div>\n",
       "<style scoped>\n",
       "    .dataframe tbody tr th:only-of-type {\n",
       "        vertical-align: middle;\n",
       "    }\n",
       "\n",
       "    .dataframe tbody tr th {\n",
       "        vertical-align: top;\n",
       "    }\n",
       "\n",
       "    .dataframe thead th {\n",
       "        text-align: right;\n",
       "    }\n",
       "</style>\n",
       "<table border=\"1\" class=\"dataframe\">\n",
       "  <thead>\n",
       "    <tr style=\"text-align: right;\">\n",
       "      <th></th>\n",
       "      <th>text</th>\n",
       "      <th>tags</th>\n",
       "    </tr>\n",
       "  </thead>\n",
       "  <tbody>\n",
       "    <tr>\n",
       "      <th>0</th>\n",
       "      <td>Украина сможет покрывать более 50 процентов св...</td>\n",
       "      <td>14</td>\n",
       "    </tr>\n",
       "    <tr>\n",
       "      <th>1</th>\n",
       "      <td>Издательство Electronic Arts официально анонси...</td>\n",
       "      <td>10</td>\n",
       "    </tr>\n",
       "    <tr>\n",
       "      <th>2</th>\n",
       "      <td>14 мая, в день выборов губернатора Санкт-Петер...</td>\n",
       "      <td>10</td>\n",
       "    </tr>\n",
       "    <tr>\n",
       "      <th>3</th>\n",
       "      <td>Американская развлекательная компания Netflix ...</td>\n",
       "      <td>32</td>\n",
       "    </tr>\n",
       "    <tr>\n",
       "      <th>4</th>\n",
       "      <td>В Российском государственном университете физи...</td>\n",
       "      <td>10</td>\n",
       "    </tr>\n",
       "    <tr>\n",
       "      <th>...</th>\n",
       "      <td>...</td>\n",
       "      <td>...</td>\n",
       "    </tr>\n",
       "    <tr>\n",
       "      <th>17759</th>\n",
       "      <td>Помощь жителям Подмосковья, пострадавшим в рез...</td>\n",
       "      <td>10</td>\n",
       "    </tr>\n",
       "    <tr>\n",
       "      <th>17760</th>\n",
       "      <td>Депутат Верховной Рады Дмитрий Табачник решил ...</td>\n",
       "      <td>10</td>\n",
       "    </tr>\n",
       "    <tr>\n",
       "      <th>17761</th>\n",
       "      <td>В воскресенье, 8 апреля, скончался Джек Трэмие...</td>\n",
       "      <td>10</td>\n",
       "    </tr>\n",
       "    <tr>\n",
       "      <th>17762</th>\n",
       "      <td>Совет Федерации предложил восполнить нехватку ...</td>\n",
       "      <td>14</td>\n",
       "    </tr>\n",
       "    <tr>\n",
       "      <th>17763</th>\n",
       "      <td>Правительство Германии приняло закон, по котор...</td>\n",
       "      <td>10</td>\n",
       "    </tr>\n",
       "  </tbody>\n",
       "</table>\n",
       "<p>17764 rows × 2 columns</p>\n",
       "</div>"
      ],
      "text/plain": [
       "                                                    text  tags\n",
       "0      Украина сможет покрывать более 50 процентов св...    14\n",
       "1      Издательство Electronic Arts официально анонси...    10\n",
       "2      14 мая, в день выборов губернатора Санкт-Петер...    10\n",
       "3      Американская развлекательная компания Netflix ...    32\n",
       "4      В Российском государственном университете физи...    10\n",
       "...                                                  ...   ...\n",
       "17759  Помощь жителям Подмосковья, пострадавшим в рез...    10\n",
       "17760  Депутат Верховной Рады Дмитрий Табачник решил ...    10\n",
       "17761  В воскресенье, 8 апреля, скончался Джек Трэмие...    10\n",
       "17762  Совет Федерации предложил восполнить нехватку ...    14\n",
       "17763  Правительство Германии приняло закон, по котор...    10\n",
       "\n",
       "[17764 rows x 2 columns]"
      ]
     },
     "execution_count": 12,
     "metadata": {},
     "output_type": "execute_result"
    }
   ],
   "source": [
    "labelencoder = LabelEncoder()\n",
    "data['tags'] = labelencoder.fit_transform(data['tags'])\n",
    "data\n"
   ]
  },
  {
   "cell_type": "code",
   "execution_count": 13,
   "metadata": {
    "id": "QbtGQWQvJS2a"
   },
   "outputs": [],
   "source": [
    "for i in range (11412): \n",
    "    if (i == 49) or (i == 53):\n",
    "        continue\n",
    "    else:\n",
    "        data = data[data.tags != i]"
   ]
  },
  {
   "cell_type": "code",
   "execution_count": 13,
   "metadata": {
    "colab": {
     "base_uri": "https://localhost:8080/"
    },
    "id": "IaHe3y36pf82",
    "outputId": "9f4b4904-4b2c-4170-ca44-0a2da5fd10ca"
   },
   "outputs": [
    {
     "data": {
      "text/plain": [
       "53    46\n",
       "49    25\n",
       "Name: tags, dtype: int64"
      ]
     },
     "execution_count": 13,
     "metadata": {},
     "output_type": "execute_result"
    }
   ],
   "source": [
    "data['tags'].value_counts()"
   ]
  },
  {
   "cell_type": "code",
   "execution_count": 14,
   "metadata": {
    "colab": {
     "base_uri": "https://localhost:8080/",
     "height": 415
    },
    "id": "Xq4PQzTYJ3-P",
    "outputId": "026e1da9-43d2-4530-f8aa-f8b3c3f4bfae"
   },
   "outputs": [
    {
     "data": {
      "text/html": [
       "<div>\n",
       "<style scoped>\n",
       "    .dataframe tbody tr th:only-of-type {\n",
       "        vertical-align: middle;\n",
       "    }\n",
       "\n",
       "    .dataframe tbody tr th {\n",
       "        vertical-align: top;\n",
       "    }\n",
       "\n",
       "    .dataframe thead th {\n",
       "        text-align: right;\n",
       "    }\n",
       "</style>\n",
       "<table border=\"1\" class=\"dataframe\">\n",
       "  <thead>\n",
       "    <tr style=\"text-align: right;\">\n",
       "      <th></th>\n",
       "      <th>text</th>\n",
       "      <th>tags</th>\n",
       "    </tr>\n",
       "  </thead>\n",
       "  <tbody>\n",
       "    <tr>\n",
       "      <th>0</th>\n",
       "      <td>Вор в законе Владимир Вагин (был известен в кр...</td>\n",
       "      <td>53</td>\n",
       "    </tr>\n",
       "    <tr>\n",
       "      <th>1</th>\n",
       "      <td>Первый в России отдельно стоящий магазин мебел...</td>\n",
       "      <td>49</td>\n",
       "    </tr>\n",
       "    <tr>\n",
       "      <th>2</th>\n",
       "      <td>Здание исторического магазина, расположенное в...</td>\n",
       "      <td>49</td>\n",
       "    </tr>\n",
       "    <tr>\n",
       "      <th>3</th>\n",
       "      <td>Московские рестораторы подписали соглашение об...</td>\n",
       "      <td>49</td>\n",
       "    </tr>\n",
       "    <tr>\n",
       "      <th>4</th>\n",
       "      <td>Один из крупнейших телекоммуникационных операт...</td>\n",
       "      <td>49</td>\n",
       "    </tr>\n",
       "    <tr>\n",
       "      <th>5</th>\n",
       "      <td>Общее число сделок в сегменте складской недвиж...</td>\n",
       "      <td>49</td>\n",
       "    </tr>\n",
       "    <tr>\n",
       "      <th>6</th>\n",
       "      <td>Аслана Гагиева по кличке Джако — главу крупней...</td>\n",
       "      <td>53</td>\n",
       "    </tr>\n",
       "    <tr>\n",
       "      <th>7</th>\n",
       "      <td>Компания Sminex раскрыла подробности девелопер...</td>\n",
       "      <td>49</td>\n",
       "    </tr>\n",
       "    <tr>\n",
       "      <th>8</th>\n",
       "      <td>Мосгорсуд отклонил жалобу защиты Захария Калаш...</td>\n",
       "      <td>53</td>\n",
       "    </tr>\n",
       "    <tr>\n",
       "      <th>9</th>\n",
       "      <td>Правительство внесло в Госдуму законопроект об...</td>\n",
       "      <td>49</td>\n",
       "    </tr>\n",
       "    <tr>\n",
       "      <th>10</th>\n",
       "      <td>Рынок офисной недвижимости Манхэттена в первом...</td>\n",
       "      <td>49</td>\n",
       "    </tr>\n",
       "    <tr>\n",
       "      <th>11</th>\n",
       "      <td>На фоне отсутствия ввода новых магазинных площ...</td>\n",
       "      <td>49</td>\n",
       "    </tr>\n",
       "    <tr>\n",
       "      <th>12</th>\n",
       "      <td>В Москве в течение трех месяцев ликвидируют те...</td>\n",
       "      <td>49</td>\n",
       "    </tr>\n",
       "    <tr>\n",
       "      <th>13</th>\n",
       "      <td>В 2018-м на российский рынок выйдет порядка 35...</td>\n",
       "      <td>49</td>\n",
       "    </tr>\n",
       "    <tr>\n",
       "      <th>14</th>\n",
       "      <td>Девелоперы представили правительству Московско...</td>\n",
       "      <td>49</td>\n",
       "    </tr>\n",
       "    <tr>\n",
       "      <th>15</th>\n",
       "      <td>В Коми задержан один из лидеров российского кр...</td>\n",
       "      <td>53</td>\n",
       "    </tr>\n",
       "    <tr>\n",
       "      <th>16</th>\n",
       "      <td>Самая большая картина в стиле граффити в Москв...</td>\n",
       "      <td>49</td>\n",
       "    </tr>\n",
       "    <tr>\n",
       "      <th>17</th>\n",
       "      <td>Небоскреб в Батуми, проект строительства котор...</td>\n",
       "      <td>49</td>\n",
       "    </tr>\n",
       "    <tr>\n",
       "      <th>18</th>\n",
       "      <td>В Новой Москве открылся центр временного содер...</td>\n",
       "      <td>49</td>\n",
       "    </tr>\n",
       "    <tr>\n",
       "      <th>19</th>\n",
       "      <td>Редакция радиостанции «Эхо Москвы» останется в...</td>\n",
       "      <td>49</td>\n",
       "    </tr>\n",
       "    <tr>\n",
       "      <th>20</th>\n",
       "      <td>В Торонто с верхушки 65-этажного здания отеля ...</td>\n",
       "      <td>49</td>\n",
       "    </tr>\n",
       "    <tr>\n",
       "      <th>21</th>\n",
       "      <td>Держатель российского воровского «общака», 43-...</td>\n",
       "      <td>53</td>\n",
       "    </tr>\n",
       "  </tbody>\n",
       "</table>\n",
       "</div>"
      ],
      "text/plain": [
       "                                                 text  tags\n",
       "0   Вор в законе Владимир Вагин (был известен в кр...    53\n",
       "1   Первый в России отдельно стоящий магазин мебел...    49\n",
       "2   Здание исторического магазина, расположенное в...    49\n",
       "3   Московские рестораторы подписали соглашение об...    49\n",
       "4   Один из крупнейших телекоммуникационных операт...    49\n",
       "5   Общее число сделок в сегменте складской недвиж...    49\n",
       "6   Аслана Гагиева по кличке Джако — главу крупней...    53\n",
       "7   Компания Sminex раскрыла подробности девелопер...    49\n",
       "8   Мосгорсуд отклонил жалобу защиты Захария Калаш...    53\n",
       "9   Правительство внесло в Госдуму законопроект об...    49\n",
       "10  Рынок офисной недвижимости Манхэттена в первом...    49\n",
       "11  На фоне отсутствия ввода новых магазинных площ...    49\n",
       "12  В Москве в течение трех месяцев ликвидируют те...    49\n",
       "13  В 2018-м на российский рынок выйдет порядка 35...    49\n",
       "14  Девелоперы представили правительству Московско...    49\n",
       "15  В Коми задержан один из лидеров российского кр...    53\n",
       "16  Самая большая картина в стиле граффити в Москв...    49\n",
       "17  Небоскреб в Батуми, проект строительства котор...    49\n",
       "18  В Новой Москве открылся центр временного содер...    49\n",
       "19  Редакция радиостанции «Эхо Москвы» останется в...    49\n",
       "20  В Торонто с верхушки 65-этажного здания отеля ...    49\n",
       "21  Держатель российского воровского «общака», 43-...    53"
      ]
     },
     "execution_count": 14,
     "metadata": {},
     "output_type": "execute_result"
    }
   ],
   "source": [
    "data.reset_index(drop=True, inplace=True)\n",
    "data"
   ]
  },
  {
   "cell_type": "code",
   "execution_count": 15,
   "metadata": {
    "colab": {
     "base_uri": "https://localhost:8080/"
    },
    "id": "e9UUDOYNp1XX",
    "outputId": "7ed77985-100c-4735-ccdf-8634fed109d1"
   },
   "outputs": [
    {
     "name": "stderr",
     "output_type": "stream",
     "text": [
      "[nltk_data] Downloading package punkt to\n",
      "[nltk_data]     C:\\Users\\david\\AppData\\Roaming\\nltk_data...\n",
      "[nltk_data]   Package punkt is already up-to-date!\n",
      "[nltk_data] Downloading package stopwords to\n",
      "[nltk_data]     C:\\Users\\david\\AppData\\Roaming\\nltk_data...\n",
      "[nltk_data]   Unzipping corpora\\stopwords.zip.\n"
     ]
    }
   ],
   "source": [
    "from string import punctuation\n",
    "nltk.download('punkt')\n",
    "nltk.download('stopwords')\n",
    "import pymorphy2\n",
    "morph = pymorphy2.MorphAnalyzer()\n",
    "\n",
    "def lemmatize(input_text):\n",
    "    tokens = nltk.word_tokenize(input_text)\n",
    "    normed_tokens = [morph.parse(s)[0].normal_form for s in tokens]\n",
    "    # исключим также стоп-слова\n",
    "    normed_tokens = [word for word in normed_tokens if word not in nltk.corpus.stopwords.words(\"english\")]\n",
    "    # а также знаки препинания\n",
    "    normed_tokens = [word for word in normed_tokens if word not in punctuation]\n",
    "    return ' '.join(normed_tokens)"
   ]
  },
  {
   "cell_type": "code",
   "execution_count": 16,
   "metadata": {
    "colab": {
     "base_uri": "https://localhost:8080/"
    },
    "id": "eDT22iWCp6ya",
    "outputId": "98b5ffc4-7a08-442b-bb03-805afec85272"
   },
   "outputs": [
    {
     "name": "stdout",
     "output_type": "stream",
     "text": [
      "Wall time: 2.85 s\n"
     ]
    },
    {
     "data": {
      "text/html": [
       "<div>\n",
       "<style scoped>\n",
       "    .dataframe tbody tr th:only-of-type {\n",
       "        vertical-align: middle;\n",
       "    }\n",
       "\n",
       "    .dataframe tbody tr th {\n",
       "        vertical-align: top;\n",
       "    }\n",
       "\n",
       "    .dataframe thead th {\n",
       "        text-align: right;\n",
       "    }\n",
       "</style>\n",
       "<table border=\"1\" class=\"dataframe\">\n",
       "  <thead>\n",
       "    <tr style=\"text-align: right;\">\n",
       "      <th></th>\n",
       "      <th>text</th>\n",
       "      <th>tags</th>\n",
       "    </tr>\n",
       "  </thead>\n",
       "  <tbody>\n",
       "    <tr>\n",
       "      <th>0</th>\n",
       "      <td>вор в закон владимир вагин быть известный в кр...</td>\n",
       "      <td>53</td>\n",
       "    </tr>\n",
       "    <tr>\n",
       "      <th>1</th>\n",
       "      <td>первый в россия отдельно стоящий магазин мебел...</td>\n",
       "      <td>49</td>\n",
       "    </tr>\n",
       "    <tr>\n",
       "      <th>2</th>\n",
       "      <td>здание исторический магазин расположить в амер...</td>\n",
       "      <td>49</td>\n",
       "    </tr>\n",
       "    <tr>\n",
       "      <th>3</th>\n",
       "      <td>московский ресторатор подписать соглашение о о...</td>\n",
       "      <td>49</td>\n",
       "    </tr>\n",
       "    <tr>\n",
       "      <th>4</th>\n",
       "      <td>один из крупный телекоммуникационный оператор ...</td>\n",
       "      <td>49</td>\n",
       "    </tr>\n",
       "    <tr>\n",
       "      <th>5</th>\n",
       "      <td>общий число сделка в сегмент складской недвижи...</td>\n",
       "      <td>49</td>\n",
       "    </tr>\n",
       "    <tr>\n",
       "      <th>6</th>\n",
       "      <td>аслан гагиева по кличка джако — глава крупный ...</td>\n",
       "      <td>53</td>\n",
       "    </tr>\n",
       "    <tr>\n",
       "      <th>7</th>\n",
       "      <td>компания sminex раскрыть подробность девелопер...</td>\n",
       "      <td>49</td>\n",
       "    </tr>\n",
       "    <tr>\n",
       "      <th>8</th>\n",
       "      <td>мосгорсуд отклонить жалоба защита захария кала...</td>\n",
       "      <td>53</td>\n",
       "    </tr>\n",
       "    <tr>\n",
       "      <th>9</th>\n",
       "      <td>правительство внести в госдума законопроект о ...</td>\n",
       "      <td>49</td>\n",
       "    </tr>\n",
       "    <tr>\n",
       "      <th>10</th>\n",
       "      <td>рынок офисный недвижимость манхеттен в первый ...</td>\n",
       "      <td>49</td>\n",
       "    </tr>\n",
       "    <tr>\n",
       "      <th>11</th>\n",
       "      <td>на фон отсутствие ввод новый магазинный площад...</td>\n",
       "      <td>49</td>\n",
       "    </tr>\n",
       "    <tr>\n",
       "      <th>12</th>\n",
       "      <td>в москва в течение три месяц ликвидировать теа...</td>\n",
       "      <td>49</td>\n",
       "    </tr>\n",
       "    <tr>\n",
       "      <th>13</th>\n",
       "      <td>в 2018-м на российский рынок выйти порядок 350...</td>\n",
       "      <td>49</td>\n",
       "    </tr>\n",
       "    <tr>\n",
       "      <th>14</th>\n",
       "      <td>девелопер представить правительство московский...</td>\n",
       "      <td>49</td>\n",
       "    </tr>\n",
       "    <tr>\n",
       "      <th>15</th>\n",
       "      <td>в коми задержать один из лидер российский крим...</td>\n",
       "      <td>53</td>\n",
       "    </tr>\n",
       "    <tr>\n",
       "      <th>16</th>\n",
       "      <td>самый больший картина в стиль граффити в москв...</td>\n",
       "      <td>49</td>\n",
       "    </tr>\n",
       "    <tr>\n",
       "      <th>17</th>\n",
       "      <td>небоскрёб в батуми проект строительство которы...</td>\n",
       "      <td>49</td>\n",
       "    </tr>\n",
       "    <tr>\n",
       "      <th>18</th>\n",
       "      <td>в новый москва открыться центр временной содер...</td>\n",
       "      <td>49</td>\n",
       "    </tr>\n",
       "    <tr>\n",
       "      <th>19</th>\n",
       "      <td>редакция радиостанция « эхо москва » остаться ...</td>\n",
       "      <td>49</td>\n",
       "    </tr>\n",
       "    <tr>\n",
       "      <th>20</th>\n",
       "      <td>в торонто с верхушка 65-этажный здание отель t...</td>\n",
       "      <td>49</td>\n",
       "    </tr>\n",
       "    <tr>\n",
       "      <th>21</th>\n",
       "      <td>держатель российский воровской « общак » 43-ле...</td>\n",
       "      <td>53</td>\n",
       "    </tr>\n",
       "  </tbody>\n",
       "</table>\n",
       "</div>"
      ],
      "text/plain": [
       "                                                 text  tags\n",
       "0   вор в закон владимир вагин быть известный в кр...    53\n",
       "1   первый в россия отдельно стоящий магазин мебел...    49\n",
       "2   здание исторический магазин расположить в амер...    49\n",
       "3   московский ресторатор подписать соглашение о о...    49\n",
       "4   один из крупный телекоммуникационный оператор ...    49\n",
       "5   общий число сделка в сегмент складской недвижи...    49\n",
       "6   аслан гагиева по кличка джако — глава крупный ...    53\n",
       "7   компания sminex раскрыть подробность девелопер...    49\n",
       "8   мосгорсуд отклонить жалоба защита захария кала...    53\n",
       "9   правительство внести в госдума законопроект о ...    49\n",
       "10  рынок офисный недвижимость манхеттен в первый ...    49\n",
       "11  на фон отсутствие ввод новый магазинный площад...    49\n",
       "12  в москва в течение три месяц ликвидировать теа...    49\n",
       "13  в 2018-м на российский рынок выйти порядок 350...    49\n",
       "14  девелопер представить правительство московский...    49\n",
       "15  в коми задержать один из лидер российский крим...    53\n",
       "16  самый больший картина в стиль граффити в москв...    49\n",
       "17  небоскрёб в батуми проект строительство которы...    49\n",
       "18  в новый москва открыться центр временной содер...    49\n",
       "19  редакция радиостанция « эхо москва » остаться ...    49\n",
       "20  в торонто с верхушка 65-этажный здание отель t...    49\n",
       "21  держатель российский воровской « общак » 43-ле...    53"
      ]
     },
     "execution_count": 16,
     "metadata": {},
     "output_type": "execute_result"
    }
   ],
   "source": [
    "%%time\n",
    "\n",
    "data['text'] = data['text'].apply(lemmatize)\n",
    "data"
   ]
  },
  {
   "cell_type": "code",
   "execution_count": 17,
   "metadata": {
    "colab": {
     "base_uri": "https://localhost:8080/",
     "height": 355
    },
    "id": "aBqk4e7up--s",
    "outputId": "9b20079d-8134-4e25-bc71-008a74be7b3a"
   },
   "outputs": [
    {
     "data": {
      "text/html": [
       "<div>\n",
       "<style scoped>\n",
       "    .dataframe tbody tr th:only-of-type {\n",
       "        vertical-align: middle;\n",
       "    }\n",
       "\n",
       "    .dataframe tbody tr th {\n",
       "        vertical-align: top;\n",
       "    }\n",
       "\n",
       "    .dataframe thead th {\n",
       "        text-align: right;\n",
       "    }\n",
       "</style>\n",
       "<table border=\"1\" class=\"dataframe\">\n",
       "  <thead>\n",
       "    <tr style=\"text-align: right;\">\n",
       "      <th></th>\n",
       "      <th>text</th>\n",
       "      <th>tags</th>\n",
       "    </tr>\n",
       "  </thead>\n",
       "  <tbody>\n",
       "    <tr>\n",
       "      <th>0</th>\n",
       "      <td>вор в закон владимир вагин быть известный в кр...</td>\n",
       "      <td>53</td>\n",
       "    </tr>\n",
       "    <tr>\n",
       "      <th>1</th>\n",
       "      <td>первый в россия отдельно стоящий магазин мебел...</td>\n",
       "      <td>49</td>\n",
       "    </tr>\n",
       "    <tr>\n",
       "      <th>2</th>\n",
       "      <td>здание исторический магазин расположить в амер...</td>\n",
       "      <td>49</td>\n",
       "    </tr>\n",
       "    <tr>\n",
       "      <th>3</th>\n",
       "      <td>московский ресторатор подписать соглашение о о...</td>\n",
       "      <td>49</td>\n",
       "    </tr>\n",
       "    <tr>\n",
       "      <th>4</th>\n",
       "      <td>один из крупный телекоммуникационный оператор ...</td>\n",
       "      <td>49</td>\n",
       "    </tr>\n",
       "    <tr>\n",
       "      <th>5</th>\n",
       "      <td>общий число сделка в сегмент складской недвижи...</td>\n",
       "      <td>49</td>\n",
       "    </tr>\n",
       "    <tr>\n",
       "      <th>6</th>\n",
       "      <td>аслан гагиева по кличка джако — глава крупный ...</td>\n",
       "      <td>53</td>\n",
       "    </tr>\n",
       "    <tr>\n",
       "      <th>7</th>\n",
       "      <td>компания sminex раскрыть подробность девелопер...</td>\n",
       "      <td>49</td>\n",
       "    </tr>\n",
       "    <tr>\n",
       "      <th>8</th>\n",
       "      <td>мосгорсуд отклонить жалоба защита захария кала...</td>\n",
       "      <td>53</td>\n",
       "    </tr>\n",
       "    <tr>\n",
       "      <th>9</th>\n",
       "      <td>правительство внести в госдума законопроект о ...</td>\n",
       "      <td>49</td>\n",
       "    </tr>\n",
       "  </tbody>\n",
       "</table>\n",
       "</div>"
      ],
      "text/plain": [
       "                                                text  tags\n",
       "0  вор в закон владимир вагин быть известный в кр...    53\n",
       "1  первый в россия отдельно стоящий магазин мебел...    49\n",
       "2  здание исторический магазин расположить в амер...    49\n",
       "3  московский ресторатор подписать соглашение о о...    49\n",
       "4  один из крупный телекоммуникационный оператор ...    49\n",
       "5  общий число сделка в сегмент складской недвижи...    49\n",
       "6  аслан гагиева по кличка джако — глава крупный ...    53\n",
       "7  компания sminex раскрыть подробность девелопер...    49\n",
       "8  мосгорсуд отклонить жалоба защита захария кала...    53\n",
       "9  правительство внести в госдума законопроект о ...    49"
      ]
     },
     "execution_count": 17,
     "metadata": {},
     "output_type": "execute_result"
    }
   ],
   "source": [
    "data.head(10)"
   ]
  },
  {
   "cell_type": "code",
   "execution_count": 18,
   "metadata": {
    "colab": {
     "base_uri": "https://localhost:8080/",
     "height": 243
    },
    "id": "NOhqE1v_S3yk",
    "outputId": "cde6c657-0e74-484d-a750-8c5023556c96"
   },
   "outputs": [
    {
     "data": {
      "text/plain": [
       "'в москва в течение три месяц ликвидировать театральный касса заявить генеральный директор московский дирекция театрально-концертный и зрелищный касса мдтзк виталий виноградов о это сообщать « интерфакс » « по указание мэр москва сергей собянин столичный департамент потребительский торговля постановить снести всё театральный касса — как мы пояснить делаться это в рамка борьба с нестационарный торговля » — цитировать виноградов агентство по утверждение директор мдтзк всё касса должный быть быть ликвидировать к 1 январь « мы быть приказать демонтировать всё касса в город разрешить оставить только семь но разрешить продлить они существование ещё на три месяц » — приводиться в сообщение слово директор мдтзк по данные мдтзк в город быть около 140 театральный касса который продавать примерно два миллион билет в год ранее сообщаться что владелец несколько десяток торговый точка у центральный станция московский метрополитен который власть ранее предписать демонтировать как опасный самострой оспаривать демонтаж ларёк в обращение к генпрокуратура и мэр москва сергей собянин в москва начать бороться с торговый палатка сразу после назначение мэр сергей собянин в 2010 год только в ноябрь 2010 год быть демонтировать свыше 2,2 тысяча ларёк за последний два год быть снести ещё более 2 тысяча объект'"
      ]
     },
     "execution_count": 18,
     "metadata": {},
     "output_type": "execute_result"
    }
   ],
   "source": [
    "data['text'][12]"
   ]
  },
  {
   "cell_type": "code",
   "execution_count": 19,
   "metadata": {
    "id": "CmKcFNk4MuzJ"
   },
   "outputs": [],
   "source": [
    "data = data[data['text'].map(len) > 50]"
   ]
  },
  {
   "cell_type": "code",
   "execution_count": 20,
   "metadata": {
    "colab": {
     "base_uri": "https://localhost:8080/",
     "height": 415
    },
    "id": "O5YnhSNkOSqe",
    "outputId": "82ebbb83-1f00-48f6-a153-d86c7ffb3e55"
   },
   "outputs": [
    {
     "data": {
      "text/html": [
       "<div>\n",
       "<style scoped>\n",
       "    .dataframe tbody tr th:only-of-type {\n",
       "        vertical-align: middle;\n",
       "    }\n",
       "\n",
       "    .dataframe tbody tr th {\n",
       "        vertical-align: top;\n",
       "    }\n",
       "\n",
       "    .dataframe thead th {\n",
       "        text-align: right;\n",
       "    }\n",
       "</style>\n",
       "<table border=\"1\" class=\"dataframe\">\n",
       "  <thead>\n",
       "    <tr style=\"text-align: right;\">\n",
       "      <th></th>\n",
       "      <th>text</th>\n",
       "      <th>tags</th>\n",
       "    </tr>\n",
       "  </thead>\n",
       "  <tbody>\n",
       "    <tr>\n",
       "      <th>0</th>\n",
       "      <td>вор в закон владимир вагин быть известный в кр...</td>\n",
       "      <td>53</td>\n",
       "    </tr>\n",
       "    <tr>\n",
       "      <th>1</th>\n",
       "      <td>первый в россия отдельно стоящий магазин мебел...</td>\n",
       "      <td>49</td>\n",
       "    </tr>\n",
       "    <tr>\n",
       "      <th>2</th>\n",
       "      <td>здание исторический магазин расположить в амер...</td>\n",
       "      <td>49</td>\n",
       "    </tr>\n",
       "    <tr>\n",
       "      <th>3</th>\n",
       "      <td>московский ресторатор подписать соглашение о о...</td>\n",
       "      <td>49</td>\n",
       "    </tr>\n",
       "    <tr>\n",
       "      <th>4</th>\n",
       "      <td>один из крупный телекоммуникационный оператор ...</td>\n",
       "      <td>49</td>\n",
       "    </tr>\n",
       "    <tr>\n",
       "      <th>5</th>\n",
       "      <td>общий число сделка в сегмент складской недвижи...</td>\n",
       "      <td>49</td>\n",
       "    </tr>\n",
       "    <tr>\n",
       "      <th>6</th>\n",
       "      <td>аслан гагиева по кличка джако — глава крупный ...</td>\n",
       "      <td>53</td>\n",
       "    </tr>\n",
       "    <tr>\n",
       "      <th>7</th>\n",
       "      <td>компания sminex раскрыть подробность девелопер...</td>\n",
       "      <td>49</td>\n",
       "    </tr>\n",
       "    <tr>\n",
       "      <th>8</th>\n",
       "      <td>мосгорсуд отклонить жалоба защита захария кала...</td>\n",
       "      <td>53</td>\n",
       "    </tr>\n",
       "    <tr>\n",
       "      <th>9</th>\n",
       "      <td>правительство внести в госдума законопроект о ...</td>\n",
       "      <td>49</td>\n",
       "    </tr>\n",
       "    <tr>\n",
       "      <th>10</th>\n",
       "      <td>рынок офисный недвижимость манхеттен в первый ...</td>\n",
       "      <td>49</td>\n",
       "    </tr>\n",
       "    <tr>\n",
       "      <th>11</th>\n",
       "      <td>на фон отсутствие ввод новый магазинный площад...</td>\n",
       "      <td>49</td>\n",
       "    </tr>\n",
       "    <tr>\n",
       "      <th>12</th>\n",
       "      <td>в москва в течение три месяц ликвидировать теа...</td>\n",
       "      <td>49</td>\n",
       "    </tr>\n",
       "    <tr>\n",
       "      <th>13</th>\n",
       "      <td>в 2018-м на российский рынок выйти порядок 350...</td>\n",
       "      <td>49</td>\n",
       "    </tr>\n",
       "    <tr>\n",
       "      <th>14</th>\n",
       "      <td>девелопер представить правительство московский...</td>\n",
       "      <td>49</td>\n",
       "    </tr>\n",
       "    <tr>\n",
       "      <th>15</th>\n",
       "      <td>в коми задержать один из лидер российский крим...</td>\n",
       "      <td>53</td>\n",
       "    </tr>\n",
       "    <tr>\n",
       "      <th>16</th>\n",
       "      <td>самый больший картина в стиль граффити в москв...</td>\n",
       "      <td>49</td>\n",
       "    </tr>\n",
       "    <tr>\n",
       "      <th>17</th>\n",
       "      <td>небоскрёб в батуми проект строительство которы...</td>\n",
       "      <td>49</td>\n",
       "    </tr>\n",
       "    <tr>\n",
       "      <th>18</th>\n",
       "      <td>в новый москва открыться центр временной содер...</td>\n",
       "      <td>49</td>\n",
       "    </tr>\n",
       "    <tr>\n",
       "      <th>19</th>\n",
       "      <td>редакция радиостанция « эхо москва » остаться ...</td>\n",
       "      <td>49</td>\n",
       "    </tr>\n",
       "    <tr>\n",
       "      <th>20</th>\n",
       "      <td>в торонто с верхушка 65-этажный здание отель t...</td>\n",
       "      <td>49</td>\n",
       "    </tr>\n",
       "    <tr>\n",
       "      <th>21</th>\n",
       "      <td>держатель российский воровской « общак » 43-ле...</td>\n",
       "      <td>53</td>\n",
       "    </tr>\n",
       "  </tbody>\n",
       "</table>\n",
       "</div>"
      ],
      "text/plain": [
       "                                                 text  tags\n",
       "0   вор в закон владимир вагин быть известный в кр...    53\n",
       "1   первый в россия отдельно стоящий магазин мебел...    49\n",
       "2   здание исторический магазин расположить в амер...    49\n",
       "3   московский ресторатор подписать соглашение о о...    49\n",
       "4   один из крупный телекоммуникационный оператор ...    49\n",
       "5   общий число сделка в сегмент складской недвижи...    49\n",
       "6   аслан гагиева по кличка джако — глава крупный ...    53\n",
       "7   компания sminex раскрыть подробность девелопер...    49\n",
       "8   мосгорсуд отклонить жалоба защита захария кала...    53\n",
       "9   правительство внести в госдума законопроект о ...    49\n",
       "10  рынок офисный недвижимость манхеттен в первый ...    49\n",
       "11  на фон отсутствие ввод новый магазинный площад...    49\n",
       "12  в москва в течение три месяц ликвидировать теа...    49\n",
       "13  в 2018-м на российский рынок выйти порядок 350...    49\n",
       "14  девелопер представить правительство московский...    49\n",
       "15  в коми задержать один из лидер российский крим...    53\n",
       "16  самый больший картина в стиль граффити в москв...    49\n",
       "17  небоскрёб в батуми проект строительство которы...    49\n",
       "18  в новый москва открыться центр временной содер...    49\n",
       "19  редакция радиостанция « эхо москва » остаться ...    49\n",
       "20  в торонто с верхушка 65-этажный здание отель t...    49\n",
       "21  держатель российский воровской « общак » 43-ле...    53"
      ]
     },
     "execution_count": 20,
     "metadata": {},
     "output_type": "execute_result"
    }
   ],
   "source": [
    "data = data.reset_index(drop=True)\n",
    "data"
   ]
  },
  {
   "cell_type": "code",
   "execution_count": 21,
   "metadata": {
    "id": "kcXQX37pOVWu"
   },
   "outputs": [],
   "source": [
    "from sklearn.model_selection import train_test_split\n",
    "\n",
    "X_train, X_test, y_train, y_test = train_test_split(data['text'], data['tags'], test_size=0.12, stratify=data['tags'], random_state=42)"
   ]
  },
  {
   "cell_type": "markdown",
   "metadata": {
    "id": "kJHD08paOl17"
   },
   "source": [
    "Bag Of Words\n"
   ]
  },
  {
   "cell_type": "code",
   "execution_count": 22,
   "metadata": {
    "colab": {
     "base_uri": "https://localhost:8080/"
    },
    "id": "WFtIMJDeOo91",
    "outputId": "4331bda8-66d4-401e-cc6a-42217bb5be52"
   },
   "outputs": [
    {
     "data": {
      "text/plain": [
       "(19,)"
      ]
     },
     "execution_count": 22,
     "metadata": {},
     "output_type": "execute_result"
    }
   ],
   "source": [
    "X_train.shape"
   ]
  },
  {
   "cell_type": "code",
   "execution_count": 23,
   "metadata": {
    "id": "eHlBsZoTOq9-"
   },
   "outputs": [],
   "source": [
    "for i in X_train:\n",
    "  if len(i) < 50:\n",
    "    print (i)"
   ]
  },
  {
   "cell_type": "code",
   "execution_count": 24,
   "metadata": {
    "id": "Q3lRm7Q-Ot7e"
   },
   "outputs": [],
   "source": [
    "from sklearn.feature_extraction.text import CountVectorizer\n",
    "bof_vect = CountVectorizer()\n",
    "bof_vect.fit(np.hstack([X_train, X_test]))\n",
    "bof_train = bof_vect.transform(X_train)\n",
    "bof_test = bof_vect.transform(X_test)"
   ]
  },
  {
   "cell_type": "code",
   "execution_count": 25,
   "metadata": {
    "colab": {
     "base_uri": "https://localhost:8080/"
    },
    "id": "BxFoPklqOx7E",
    "outputId": "cc44a0ef-b024-42f3-d59e-cee0b4cb90d4"
   },
   "outputs": [
    {
     "data": {
      "text/plain": [
       "(19, 1518)"
      ]
     },
     "execution_count": 25,
     "metadata": {},
     "output_type": "execute_result"
    }
   ],
   "source": [
    "bof_train.toarray().shape"
   ]
  },
  {
   "cell_type": "code",
   "execution_count": 26,
   "metadata": {
    "colab": {
     "base_uri": "https://localhost:8080/"
    },
    "id": "cg84QQUnO0SM",
    "outputId": "56daf781-432d-45b6-e48c-34cfed91c17a"
   },
   "outputs": [
    {
     "data": {
      "text/plain": [
       "array([[0, 0, 0, ..., 0, 0, 1],\n",
       "       [0, 0, 1, ..., 0, 0, 0],\n",
       "       [1, 0, 1, ..., 0, 0, 0],\n",
       "       ...,\n",
       "       [0, 0, 0, ..., 0, 0, 0],\n",
       "       [0, 0, 0, ..., 0, 0, 0],\n",
       "       [0, 0, 1, ..., 0, 0, 0]], dtype=int64)"
      ]
     },
     "execution_count": 26,
     "metadata": {},
     "output_type": "execute_result"
    }
   ],
   "source": [
    "bof_train.toarray(\n",
    ")"
   ]
  },
  {
   "cell_type": "code",
   "execution_count": null,
   "metadata": {
    "id": "b8ccYnZ3O3MA"
   },
   "outputs": [],
   "source": []
  },
  {
   "cell_type": "markdown",
   "metadata": {
    "id": "TURxPKUeO4bZ"
   },
   "source": [
    "TF-IDF"
   ]
  },
  {
   "cell_type": "code",
   "execution_count": 27,
   "metadata": {
    "id": "EL6J_-KYO6t5"
   },
   "outputs": [],
   "source": [
    "from sklearn.feature_extraction.text import TfidfVectorizer\n",
    "tfidf_vect = TfidfVectorizer()\n",
    "tfidf_vect.fit(np.hstack([X_train, X_test]))\n",
    "tfidf_train = tfidf_vect.transform(X_train)\n",
    "tfidf_test = tfidf_vect.transform(X_test)"
   ]
  },
  {
   "cell_type": "code",
   "execution_count": 28,
   "metadata": {
    "colab": {
     "base_uri": "https://localhost:8080/"
    },
    "id": "yB5x9lHtO8zE",
    "outputId": "1c997cb9-9526-491d-9d36-5e43e6e6f150"
   },
   "outputs": [
    {
     "data": {
      "text/plain": [
       "array([[0.        , 0.        , 0.        , ..., 0.        , 0.        ,\n",
       "        0.05671821],\n",
       "       [0.        , 0.        , 0.05480615, ..., 0.        , 0.        ,\n",
       "        0.        ],\n",
       "       [0.0825182 , 0.        , 0.05618282, ..., 0.        , 0.        ,\n",
       "        0.        ],\n",
       "       ...,\n",
       "       [0.        , 0.        , 0.        , ..., 0.        , 0.        ,\n",
       "        0.        ],\n",
       "       [0.        , 0.        , 0.        , ..., 0.        , 0.        ,\n",
       "        0.        ],\n",
       "       [0.        , 0.        , 0.06142264, ..., 0.        , 0.        ,\n",
       "        0.        ]])"
      ]
     },
     "execution_count": 28,
     "metadata": {},
     "output_type": "execute_result"
    }
   ],
   "source": [
    "tfidf_train.toarray()"
   ]
  },
  {
   "cell_type": "code",
   "execution_count": 29,
   "metadata": {
    "colab": {
     "base_uri": "https://localhost:8080/"
    },
    "id": "5zd5WTKvO_Hb",
    "outputId": "dffa4955-6ed6-441f-810e-7ce9db7776e8"
   },
   "outputs": [
    {
     "data": {
      "text/plain": [
       "(19, 1518)"
      ]
     },
     "execution_count": 29,
     "metadata": {},
     "output_type": "execute_result"
    }
   ],
   "source": [
    "tfidf_train.toarray().shape"
   ]
  },
  {
   "cell_type": "code",
   "execution_count": null,
   "metadata": {
    "id": "J0wcRtILPCVg"
   },
   "outputs": [],
   "source": []
  },
  {
   "cell_type": "markdown",
   "metadata": {
    "id": "OxMoOphQPEg9"
   },
   "source": [
    "Word2Vec"
   ]
  },
  {
   "cell_type": "code",
   "execution_count": 30,
   "metadata": {
    "colab": {
     "base_uri": "https://localhost:8080/"
    },
    "id": "sVutCctvPF8d",
    "outputId": "3ab414e3-bedb-4ea9-f13c-3a07f5bbb2ab"
   },
   "outputs": [
    {
     "name": "stdout",
     "output_type": "stream",
     "text": [
      "Wall time: 3.26 s\n"
     ]
    }
   ],
   "source": [
    "%%time\n",
    "\n",
    "from gensim.models import Word2Vec\n",
    "X_train_w2v = X_train.apply(str.split)\n",
    "X_test_w2v = X_test.apply(str.split)\n",
    "w2v_vect = Word2Vec(np.hstack([X_train_w2v, X_test_w2v]), size=30, min_count=10, workers=8)"
   ]
  },
  {
   "cell_type": "code",
   "execution_count": 31,
   "metadata": {
    "colab": {
     "base_uri": "https://localhost:8080/"
    },
    "id": "rJBtGfh5PLf5",
    "outputId": "09ec14eb-5894-44f7-9594-399aa8e8a9f1"
   },
   "outputs": [
    {
     "data": {
      "text/plain": [
       "6     [аслан, гагиева, по, кличка, джако, —, глава, ...\n",
       "16    [самый, больший, картина, в, стиль, граффити, ...\n",
       "14    [девелопер, представить, правительство, москов...\n",
       "13    [в, 2018-м, на, российский, рынок, выйти, поря...\n",
       "20    [в, торонто, с, верхушка, 65-этажный, здание, ...\n",
       "17    [небоскрёб, в, батуми, проект, строительство, ...\n",
       "11    [на, фон, отсутствие, ввод, новый, магазинный,...\n",
       "19    [редакция, радиостанция, «, эхо, москва, », ос...\n",
       "7     [компания, sminex, раскрыть, подробность, деве...\n",
       "0     [вор, в, закон, владимир, вагин, быть, известн...\n",
       "15    [в, коми, задержать, один, из, лидер, российск...\n",
       "3     [московский, ресторатор, подписать, соглашение...\n",
       "8     [мосгорсуд, отклонить, жалоба, защита, захария...\n",
       "10    [рынок, офисный, недвижимость, манхеттен, в, п...\n",
       "18    [в, новый, москва, открыться, центр, временной...\n",
       "12    [в, москва, в, течение, три, месяц, ликвидиров...\n",
       "5     [общий, число, сделка, в, сегмент, складской, ...\n",
       "1     [первый, в, россия, отдельно, стоящий, магазин...\n",
       "2     [здание, исторический, магазин, расположить, в...\n",
       "Name: text, dtype: object"
      ]
     },
     "execution_count": 31,
     "metadata": {},
     "output_type": "execute_result"
    }
   ],
   "source": [
    "X_train_w2v"
   ]
  },
  {
   "cell_type": "code",
   "execution_count": null,
   "metadata": {
    "id": "swxdjTHRPPLQ"
   },
   "outputs": [],
   "source": []
  },
  {
   "cell_type": "markdown",
   "metadata": {
    "id": "j33piniWPRqC"
   },
   "source": [
    "Преобразуем тексты в вектора - возьмем сумму векторов всех слов в тексте"
   ]
  },
  {
   "cell_type": "code",
   "execution_count": 32,
   "metadata": {
    "colab": {
     "base_uri": "https://localhost:8080/"
    },
    "id": "5sCu9Z3wPSrS",
    "outputId": "0877c78d-48eb-42b7-ec63-d51dff913d06"
   },
   "outputs": [
    {
     "name": "stdout",
     "output_type": "stream",
     "text": [
      "Wall time: 27.9 ms\n"
     ]
    },
    {
     "name": "stderr",
     "output_type": "stream",
     "text": [
      "C:\\Users\\david\\anaconda3\\lib\\site-packages\\ipykernel_launcher.py:8: DeprecationWarning: Call to deprecated `__getitem__` (Method will be removed in 4.0.0, use self.wv.__getitem__() instead).\n",
      "  \n"
     ]
    },
    {
     "data": {
      "text/plain": [
       "6     [0.038166717, 0.0052388, 0.04138939, -0.010454...\n",
       "16    [0.04070744, 0.00326558, 0.051549986, -0.01342...\n",
       "14    [0.03530341, 0.007480622, 0.04366911, -0.01409...\n",
       "13    [0.036969163, 0.0063887727, 0.045101296, -0.01...\n",
       "20    [0.041093, 0.007489682, 0.049671054, -0.013486...\n",
       "17    [0.039263647, 0.005764105, 0.04527083, -0.0126...\n",
       "11    [0.03476452, 0.008724663, 0.045084566, -0.0128...\n",
       "19    [0.03938422, 0.006397037, 0.04700074, -0.01327...\n",
       "7     [0.03580943, 0.0069195204, 0.042419087, -0.012...\n",
       "0     [0.042099707, 0.006162934, 0.048987288, -0.013...\n",
       "15    [0.042437453, 0.0063890503, 0.050400063, -0.01...\n",
       "3     [0.040916417, 0.005584022, 0.04863101, -0.0138...\n",
       "8     [0.034060653, 0.0049343016, 0.041393653, -0.00...\n",
       "10    [0.036684185, 0.0069415625, 0.045170527, -0.01...\n",
       "18    [0.036628745, 0.0065021953, 0.044209838, -0.01...\n",
       "12    [0.037031844, 0.0059562335, 0.045355797, -0.01...\n",
       "5     [0.03525585, 0.0065710107, 0.038130797, -0.010...\n",
       "1     [0.04183765, 0.007825373, 0.049954485, -0.0168...\n",
       "2     [0.043147676, 0.0081962375, 0.049675193, -0.01...\n",
       "Name: text, dtype: object"
      ]
     },
     "execution_count": 32,
     "metadata": {},
     "output_type": "execute_result"
    }
   ],
   "source": [
    "%%time\n",
    "\n",
    "import numpy as np\n",
    "\n",
    "def text2vec(text):\n",
    "    \"\"\"Усредняем векторы слов\"\"\"\n",
    "    vecs = []\n",
    "    for word in text:\n",
    "        try:\n",
    "            vecs.append(w2v_vect[word])\n",
    "        except KeyError:\n",
    "            pass\n",
    "    return np.sum(vecs, axis=0) / len(vecs)\n",
    "\n",
    "w2v_train = X_train_w2v.apply(text2vec)\n",
    "w2v_test = X_test_w2v.apply(text2vec)\n",
    "w2v_train"
   ]
  },
  {
   "cell_type": "code",
   "execution_count": 33,
   "metadata": {
    "colab": {
     "base_uri": "https://localhost:8080/"
    },
    "id": "s43SEnBlPWa9",
    "outputId": "2d6e3761-f855-491e-f9e4-13fc13ecce78"
   },
   "outputs": [
    {
     "data": {
      "text/plain": [
       "6     [0.038166717, 0.0052388, 0.04138939, -0.010454...\n",
       "16    [0.04070744, 0.00326558, 0.051549986, -0.01342...\n",
       "14    [0.03530341, 0.007480622, 0.04366911, -0.01409...\n",
       "13    [0.036969163, 0.0063887727, 0.045101296, -0.01...\n",
       "20    [0.041093, 0.007489682, 0.049671054, -0.013486...\n",
       "17    [0.039263647, 0.005764105, 0.04527083, -0.0126...\n",
       "11    [0.03476452, 0.008724663, 0.045084566, -0.0128...\n",
       "19    [0.03938422, 0.006397037, 0.04700074, -0.01327...\n",
       "7     [0.03580943, 0.0069195204, 0.042419087, -0.012...\n",
       "0     [0.042099707, 0.006162934, 0.048987288, -0.013...\n",
       "15    [0.042437453, 0.0063890503, 0.050400063, -0.01...\n",
       "3     [0.040916417, 0.005584022, 0.04863101, -0.0138...\n",
       "8     [0.034060653, 0.0049343016, 0.041393653, -0.00...\n",
       "10    [0.036684185, 0.0069415625, 0.045170527, -0.01...\n",
       "18    [0.036628745, 0.0065021953, 0.044209838, -0.01...\n",
       "12    [0.037031844, 0.0059562335, 0.045355797, -0.01...\n",
       "5     [0.03525585, 0.0065710107, 0.038130797, -0.010...\n",
       "1     [0.04183765, 0.007825373, 0.049954485, -0.0168...\n",
       "2     [0.043147676, 0.0081962375, 0.049675193, -0.01...\n",
       "Name: text, dtype: object"
      ]
     },
     "execution_count": 33,
     "metadata": {},
     "output_type": "execute_result"
    }
   ],
   "source": [
    "w2v_train"
   ]
  },
  {
   "cell_type": "code",
   "execution_count": null,
   "metadata": {
    "id": "W4aQ3aMqPY_R"
   },
   "outputs": [],
   "source": []
  },
  {
   "cell_type": "markdown",
   "metadata": {
    "id": "e9Wq1E4uPb4M"
   },
   "source": [
    "Классификация"
   ]
  },
  {
   "cell_type": "code",
   "execution_count": 34,
   "metadata": {
    "id": "FYp6G1yxPc6c"
   },
   "outputs": [],
   "source": [
    "from sklearn.metrics import (accuracy_score, precision_score, recall_score, precision_recall_curve, roc_auc_score, \n",
    "    f1_score, fbeta_score, auc)\n",
    "\n",
    "def classsifier_quality(a):\n",
    "    print('Accuracy:', accuracy_score( y_train.tolist(), a))\n",
    "    print('Precision:', precision_score( y_train.tolist(), a, average='macro'))\n",
    "    print('Recall:', recall_score( y_train.tolist(), a, average='macro'))\n",
    "    print('F1:', f1_score( y_train.tolist(), a, average='macro'))\n",
    "    print('F0.5:', fbeta_score( y_train.tolist(), a, 0.5 ,average='macro'))\n",
    "    print('F2:', fbeta_score( y_train.tolist(), a, 2, average='macro'))"
   ]
  },
  {
   "cell_type": "code",
   "execution_count": 35,
   "metadata": {
    "colab": {
     "base_uri": "https://localhost:8080/"
    },
    "id": "SzBKDOp0PfgZ",
    "outputId": "1cf5904b-6776-4b08-e292-19a8530ae38b"
   },
   "outputs": [
    {
     "name": "stdout",
     "output_type": "stream",
     "text": [
      "Wall time: 1.5 s\n"
     ]
    }
   ],
   "source": [
    "%%time \n",
    "\n",
    "from sklearn.neighbors import KNeighborsClassifier\n",
    "bknn_clf = KNeighborsClassifier()\n",
    "bknn_clf.fit(bof_train.toarray(), y_train.tolist())\n",
    "bknn_labels = bknn_clf.predict(bof_train.toarray())\n",
    "bknn_predict = bknn_clf.predict_proba(bof_train.toarray())"
   ]
  },
  {
   "cell_type": "code",
   "execution_count": 36,
   "metadata": {
    "colab": {
     "base_uri": "https://localhost:8080/"
    },
    "id": "rcgaXzqOPiZ5",
    "outputId": "cf5b71c8-73c0-4901-9f0e-a801740060e0"
   },
   "outputs": [
    {
     "name": "stdout",
     "output_type": "stream",
     "text": [
      "Accuracy: 0.8947368421052632\n",
      "Precision: 0.9411764705882353\n",
      "Recall: 0.75\n",
      "F1: 0.8020833333333333\n",
      "F0.5: 0.8684738955823293\n",
      "F2: 0.7647907647907648\n"
     ]
    }
   ],
   "source": [
    "classsifier_quality(bknn_labels)"
   ]
  },
  {
   "cell_type": "code",
   "execution_count": 37,
   "metadata": {
    "colab": {
     "base_uri": "https://localhost:8080/"
    },
    "id": "4tmksSGaQI0j",
    "outputId": "0b856951-eb7e-4269-faf3-a0e9e8330d46"
   },
   "outputs": [
    {
     "name": "stdout",
     "output_type": "stream",
     "text": [
      "Wall time: 5.99 ms\n"
     ]
    }
   ],
   "source": [
    "%%time \n",
    "\n",
    "from sklearn.neighbors import KNeighborsClassifier\n",
    "tknn_clf = KNeighborsClassifier()\n",
    "tknn_clf.fit(tfidf_train.toarray(), y_train.tolist())\n",
    "tknn_labels = tknn_clf.predict(tfidf_train.toarray())\n",
    "tknn_predict = tknn_clf.predict_proba(tfidf_train.toarray())"
   ]
  },
  {
   "cell_type": "code",
   "execution_count": 38,
   "metadata": {
    "colab": {
     "base_uri": "https://localhost:8080/"
    },
    "id": "95nvjwRRQNTW",
    "outputId": "ea728b6c-4cd8-4ea8-a8f5-48fc398d8769"
   },
   "outputs": [
    {
     "name": "stdout",
     "output_type": "stream",
     "text": [
      "Accuracy: 1.0\n",
      "Precision: 1.0\n",
      "Recall: 1.0\n",
      "F1: 1.0\n",
      "F0.5: 1.0\n",
      "F2: 1.0\n"
     ]
    }
   ],
   "source": [
    "classsifier_quality(tknn_labels)"
   ]
  },
  {
   "cell_type": "code",
   "execution_count": 39,
   "metadata": {
    "colab": {
     "base_uri": "https://localhost:8080/"
    },
    "id": "adwGJunEQ18U",
    "outputId": "83681cf0-2929-445e-ccda-ac40832adcac"
   },
   "outputs": [
    {
     "name": "stdout",
     "output_type": "stream",
     "text": [
      "Wall time: 127 ms\n"
     ]
    }
   ],
   "source": [
    "%%time\n",
    "\n",
    "from sklearn.naive_bayes import GaussianNB\n",
    "tbayes = GaussianNB()\n",
    "tbayes.fit(tfidf_train.toarray(), y_train.tolist())\n",
    "tbayes_labels = tbayes.predict(tfidf_train.toarray())\n",
    "tbayes_predict = tbayes.predict_proba(tfidf_train.toarray())"
   ]
  },
  {
   "cell_type": "code",
   "execution_count": 40,
   "metadata": {
    "colab": {
     "base_uri": "https://localhost:8080/"
    },
    "id": "Nl2jgvRAQ55L",
    "outputId": "0929935a-a51c-44c4-8eb7-227ce87f232c"
   },
   "outputs": [
    {
     "name": "stdout",
     "output_type": "stream",
     "text": [
      "Accuracy: 1.0\n",
      "Precision: 1.0\n",
      "Recall: 1.0\n",
      "F1: 1.0\n",
      "F0.5: 1.0\n",
      "F2: 1.0\n"
     ]
    }
   ],
   "source": [
    "classsifier_quality(tbayes_labels)"
   ]
  },
  {
   "cell_type": "code",
   "execution_count": null,
   "metadata": {
    "id": "e-VAUQeSQ9w8"
   },
   "outputs": [],
   "source": []
  }
 ],
 "metadata": {
  "colab": {
   "collapsed_sections": [],
   "name": "Копия_блокнота__Untitled6_ipynb_.ipynb",
   "provenance": []
  },
  "kernelspec": {
   "display_name": "Python 3",
   "language": "python",
   "name": "python3"
  },
  "language_info": {
   "codemirror_mode": {
    "name": "ipython",
    "version": 3
   },
   "file_extension": ".py",
   "mimetype": "text/x-python",
   "name": "python",
   "nbconvert_exporter": "python",
   "pygments_lexer": "ipython3",
   "version": "3.7.6"
  }
 },
 "nbformat": 4,
 "nbformat_minor": 1
}
